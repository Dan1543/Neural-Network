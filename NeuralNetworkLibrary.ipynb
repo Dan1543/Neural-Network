{
 "cells": [
  {
   "cell_type": "code",
   "execution_count": 1,
   "metadata": {
    "id": "3JDc_vCt4Lkj"
   },
   "outputs": [],
   "source": [
    "import numpy as np\n",
    "import matplotlib.pyplot as plt"
   ]
  },
  {
   "cell_type": "markdown",
   "metadata": {
    "id": "C1ATJTpO4zb_",
    "jp-MarkdownHeadingCollapsed": true
   },
   "source": [
    "# FUNCIONES DE ACTIVACION Y SUS DERIVADAS"
   ]
  },
  {
   "cell_type": "markdown",
   "metadata": {
    "id": "4g19AzOYTXYc",
    "jp-MarkdownHeadingCollapsed": true
   },
   "source": [
    "## Clases de cada funcion (contiene su funcion y su derivada)"
   ]
  },
  {
   "cell_type": "code",
   "execution_count": 2,
   "metadata": {
    "id": "AmUUjdrl4qSr"
   },
   "outputs": [],
   "source": [
    "class activationFunction:\n",
    "    \"\"\"\n",
    "    Class for activation functions meant to be used on Neural Networks\n",
    "    All the activation functions and its derivatives are available on the subclases\n",
    "    Subclasses:\n",
    "    Swish()\n",
    "    Relu()\n",
    "    Purelin()\n",
    "    Logsig()\n",
    "    Tansig()\n",
    "    Radbas()\n",
    "    Tribas()\n",
    "    RadBasN()\n",
    "    HardLim()\n",
    "    HardLims()\n",
    "    SatLin()\n",
    "    SatLins()\n",
    "    Softmax()\n",
    "    LeakyRelu()\n",
    "    ELU()\n",
    "    GELU()\n",
    "    PReLU()\n",
    "    SELU()\n",
    "    SiLU()\n",
    "    Softplus()\n",
    "    \"\"\"\n",
    "    def function(self,x):\n",
    "        \"\"\"Activation function\"\"\"\n",
    "        raise NotImplementedError(\"This is only the base function, the implementation of this is on any of the other functions, for more information check the class DOCSTRING\")\n",
    "    def derivative(self,x):\n",
    "        \"\"\"Derivative of the activation function\"\"\"\n",
    "        raise NotImplementedError(\"This is only the base function, the implementation of this is on any of the other functions, for more information check the class DOCSTRING\")\n",
    "    def active(self):\n",
    "        raise NotImplementedError(\"This is only the base function, the implementation of this is on any of the other functions, for more information check the class DOCSTRING\")"
   ]
  },
  {
   "cell_type": "code",
   "execution_count": 3,
   "metadata": {
    "id": "vl52Q1Rl4sbo"
   },
   "outputs": [],
   "source": [
    "class Swish(activationFunction):\n",
    "    \"\"\"Scaled Exponential Linear Unit With a Shift function\"\"\"\n",
    "    def __init__(self, beta=1):\n",
    "        self.beta = beta\n",
    "    def function(self, x):\n",
    "        return x * (1 / (1 + np.exp(-self.beta * x)))\n",
    "    def derivative(self, x):\n",
    "        return (self.beta * self.function(x)) + (1 / (1 + np.exp(-self.beta * x))) * (1 - self.beta * self.function(x))\n",
    "    def active(self):\n",
    "        out = [-float('inf'), float('inf')]\n",
    "        return out"
   ]
  },
  {
   "cell_type": "code",
   "execution_count": 4,
   "metadata": {
    "id": "8shE1T3W4yJz"
   },
   "outputs": [],
   "source": [
    "class Relu(activationFunction):\n",
    "    \"\"\"Rectified linear unit function (ReLU)\"\"\"\n",
    "    def function(self, x):\n",
    "        return np.maximum(0,x)\n",
    "    def derivative(self, x):\n",
    "        return np.where(x>0,1,0)"
   ]
  },
  {
   "cell_type": "code",
   "execution_count": 5,
   "metadata": {
    "id": "j2v-Y_2495Yb"
   },
   "outputs": [],
   "source": [
    "class Purelin(activationFunction):\n",
    "    \"\"\"Linear (Identity) function\"\"\"\n",
    "    def function(self,x):\n",
    "      return x\n",
    "    def derivative(self,x):\n",
    "      return np.ones_like(x)"
   ]
  },
  {
   "cell_type": "code",
   "execution_count": 6,
   "metadata": {
    "id": "KuoUYoUuIG6P"
   },
   "outputs": [],
   "source": [
    "class Logsig(activationFunction):\n",
    "    \"\"\"Logistic function\"\"\"\n",
    "    def function(self, x):\n",
    "      return 1 / (1 + np.exp(-x))\n",
    "    def derivative(self,x):\n",
    "        return self.function(x) * (1 - self.function(x))\n",
    "    def active(self):\n",
    "        out = [-4.0, 4.0]\n",
    "        return out"
   ]
  },
  {
   "cell_type": "code",
   "execution_count": 7,
   "metadata": {
    "id": "FbhNfFvmI9Cd"
   },
   "outputs": [],
   "source": [
    "class Tansig(activationFunction):\n",
    "    \"\"\"Hyperbolic function\"\"\"\n",
    "    def function(self,x):\n",
    "        return np.tanh(x)\n",
    "    def derivative(self,x):\n",
    "        return  1- np.tanh(x)**2"
   ]
  },
  {
   "cell_type": "code",
   "execution_count": 8,
   "metadata": {
    "id": "jIZd2WWFKioZ"
   },
   "outputs": [],
   "source": [
    "class Radbas(activationFunction):\n",
    "    \"\"\"Gaussian function\"\"\"\n",
    "    def function(self,x):\n",
    "        return np.exp(-x**2)\n",
    "    def derivative(self,x):\n",
    "        return -2 * x * np.exp(-x**2)"
   ]
  },
  {
   "cell_type": "code",
   "execution_count": 9,
   "metadata": {
    "id": "UTE_IxFnLIkU"
   },
   "outputs": [],
   "source": [
    "class Tribas(activationFunction):\n",
    "    \"\"\"Triangular basis function\"\"\"\n",
    "    def function(self, x):\n",
    "      return np.maximum(0, 1 - np.abs(x))\n",
    "    def derivative(self, x):\n",
    "      return np.where(np.abs(x) < 1, -1, 0)"
   ]
  },
  {
   "cell_type": "code",
   "execution_count": 10,
   "metadata": {
    "id": "lgC1nhgnLjeX"
   },
   "outputs": [],
   "source": [
    "class RadBasN(activationFunction):\n",
    "    \"\"\"Normalized radial basis function\"\"\"\n",
    "    def __init__(self, sigma=1):\n",
    "        \"\"\"\n",
    "        PARAMETERS\n",
    "        sigma : float by default 1\n",
    "        \"\"\"\n",
    "        self.sigma = sigma\n",
    "\n",
    "    def function(self, x):\n",
    "      return np.exp(-0.5 * (x / self.sigma)**2)\n",
    "\n",
    "    def derivative(self, x):\n",
    "      return -x / self.sigma**2 * np.exp(-0.5 * (x / self.sigma)**2)"
   ]
  },
  {
   "cell_type": "code",
   "execution_count": 11,
   "metadata": {
    "id": "yhHg-ZxGNLkp"
   },
   "outputs": [],
   "source": [
    "class HardLim(activationFunction):\n",
    "    \"\"\"Hard limit function\"\"\"\n",
    "    def function(self, x):\n",
    "        return np.where(x >= 0, 1, 0)\n",
    "\n",
    "    def derivative(self, x):\n",
    "        return np.zeros_like(x)"
   ]
  },
  {
   "cell_type": "code",
   "execution_count": 12,
   "metadata": {
    "id": "Vx0uAWHENjcZ"
   },
   "outputs": [],
   "source": [
    "class HardLims(activationFunction):\n",
    "    \"\"\"Symmetric hard limit function\"\"\"\n",
    "    def function(self, x):\n",
    "        return np.where(x >= 0, 1, -1)\n",
    "    def derivative(self, x):\n",
    "        return np.zeros_like(x)"
   ]
  },
  {
   "cell_type": "code",
   "execution_count": 13,
   "metadata": {
    "id": "s44mofomN2ju"
   },
   "outputs": [],
   "source": [
    "class SatLin(activationFunction):\n",
    "    \"\"\"Saturatin linear function\"\"\"\n",
    "    def function(self, x):\n",
    "        return np.clip(x, 0, None)\n",
    "\n",
    "    def derivative(self, x):\n",
    "        return np.where(x >= 0, 1, 0)"
   ]
  },
  {
   "cell_type": "code",
   "execution_count": 14,
   "metadata": {
    "id": "3W5XynwgN-wb"
   },
   "outputs": [],
   "source": [
    "class SatLins(activationFunction):\n",
    "    \"\"\"Symmetric saturating function\"\"\"\n",
    "    def function(self, x):\n",
    "        return np.clip(x, -1, 1)\n",
    "\n",
    "    def derivative(self, x):\n",
    "        return np.where(np.logical_and(x >= -1, x <= 1), 1, 0)"
   ]
  },
  {
   "cell_type": "code",
   "execution_count": 15,
   "metadata": {
    "id": "ra-GQVY6Pm9-"
   },
   "outputs": [],
   "source": [
    "class Softmax(activationFunction):\n",
    "    \"\"\"Normalized exponential function (softmax)\"\"\"\n",
    "    def function(self, x):\n",
    "        exps = np.exp(x)\n",
    "        sums = np.sum(exps)\n",
    "        return np.divide(exps, sums)\n",
    "    def derivative(self, x):\n",
    "        raise NotImplementedError(\"La derivada de Softmax no se utiliza típicamente en el entrenamiento de redes neuronales.\")"
   ]
  },
  {
   "cell_type": "code",
   "execution_count": 16,
   "metadata": {
    "id": "pNnzzwWtP2yO"
   },
   "outputs": [],
   "source": [
    "class LeakyRelu(activationFunction):\n",
    "    \"\"\"Leaky rectified linear unit function (leakyRelu)\"\"\"\n",
    "    def function(self, x):\n",
    "        return np.where(x>0,x,1e-2*x)\n",
    "    def derivative(self, x):\n",
    "        return np.where(x>0,1,1e-2)"
   ]
  },
  {
   "cell_type": "code",
   "execution_count": 17,
   "metadata": {
    "id": "Kj60iC_mP5aR"
   },
   "outputs": [],
   "source": [
    "class ELU(activationFunction):\n",
    "    \"\"\"Exponential Linear Unit function (ELU)\"\"\"\n",
    "    def __init__(self, alpha=1):\n",
    "        \"\"\"\n",
    "        PARAMETERS:\n",
    "        alpha = float by default 1\n",
    "        \"\"\"\n",
    "        self.alpha=alpha\n",
    "    def function(self, x):\n",
    "        return np.where(x>0,x,self.alpha*(np.exp(x)-1))\n",
    "    def derivative(self, x):\n",
    "        return np.where(x>0,1,self.alpha*np.exp(x))"
   ]
  },
  {
   "cell_type": "code",
   "execution_count": 18,
   "metadata": {
    "id": "mpJ1CbgVP8hu"
   },
   "outputs": [],
   "source": [
    "class GELU(activationFunction):\n",
    "    \"\"\"Gaussian Error Linear Unit function (GELU)\"\"\"\n",
    "    def function(self, x):\n",
    "        return 0.5 * x * (1 + erf(x / np.sqrt(2)))\n",
    "    def derivative(self, x):\n",
    "        return 0.5 * (1 + erf(x / np.sqrt(2))) + (x / np.sqrt(2 * np.pi)) * np.exp(-0.5 * x**2)"
   ]
  },
  {
   "cell_type": "code",
   "execution_count": 19,
   "metadata": {
    "id": "I0lFxTdgP-w9"
   },
   "outputs": [],
   "source": [
    "class PReLU(activationFunction):\n",
    "    \"\"\"Parametric rectified linear unit function (PReLU)\"\"\"\n",
    "    def __init__(self, alpha=1e-1):\n",
    "        \"\"\"\n",
    "        PARAMETERS\n",
    "        alpha : float by default 1e-1\n",
    "        \"\"\"\n",
    "        self.alpha=alpha\n",
    "    def function(self, x):\n",
    "        return np.where(x<0,self.alpha*x,x)\n",
    "    def derivative(self, x):\n",
    "        return np.where(x<0,self.alpha,1)"
   ]
  },
  {
   "cell_type": "code",
   "execution_count": 20,
   "metadata": {
    "id": "Zfu4-hwtQAcV"
   },
   "outputs": [],
   "source": [
    "class SELU(activationFunction):\n",
    "    \"\"\"Scaled exponential linear unit function (SELU)\"\"\"\n",
    "    def __init__(self, lamb= 1.0507, alpha=1.67326):\n",
    "        \"\"\"\n",
    "        PARAMETERS\n",
    "        lamb : float by default 1.0507\n",
    "        alpha : float by default 1.67326\n",
    "        Both are suposed to be always that value so it's recomended to not change them\n",
    "        \"\"\"\n",
    "        self.lamb=lamb\n",
    "        self.alpha=alpha\n",
    "    def function(self, x):\n",
    "        return self.lamb * np.where(x<0, self.alpha*(np.exp(x)-1),x)\n",
    "    def derivative(self, x):\n",
    "        return self.lamb * np.where(x<0, self.alpha*np.exp(x),1)"
   ]
  },
  {
   "cell_type": "code",
   "execution_count": 21,
   "metadata": {
    "id": "iw1z8DEkQC5j"
   },
   "outputs": [],
   "source": [
    "class SiLU(activationFunction):\n",
    "    \"\"\"Sigmoid linear unit function (SiLU)\"\"\"\n",
    "    def function(self, x):\n",
    "        return (x / (1 + np.exp(-x)))\n",
    "    def derivative(self, x):\n",
    "        return (1 + np.exp(-x) + x*np.exp(-x))/((1+np.exp(-x))**2)"
   ]
  },
  {
   "cell_type": "code",
   "execution_count": 22,
   "metadata": {
    "id": "CIoQz-TqQFLg"
   },
   "outputs": [],
   "source": [
    "class Softplus(activationFunction):\n",
    "    \"\"\"Smooth approximation ReLU function\"\"\"\n",
    "    def function(self, x):\n",
    "        return np.log(1 + np.exp(x))\n",
    "    def derivative(self, x):\n",
    "        return 1 / (1+np.exp(-x))"
   ]
  },
  {
   "cell_type": "markdown",
   "metadata": {
    "id": "y7RQbf4DTSTR",
    "jp-MarkdownHeadingCollapsed": true
   },
   "source": [
    "## Seccion de pruebas de las funciones"
   ]
  },
  {
   "cell_type": "code",
   "execution_count": 23,
   "metadata": {
    "colab": {
     "base_uri": "https://localhost:8080/",
     "height": 487
    },
    "id": "YmnICKnv4_Ee",
    "outputId": "9f461e66-4936-4421-cd98-de03dc2a97be"
   },
   "outputs": [
    {
     "data": {
      "image/png": "[encoded data removed]",
      "text/plain": [
       "<Figure size 1000x500 with 2 Axes>"
      ]
     },
     "metadata": {},
     "output_type": "display_data"
    }
   ],
   "source": [
    "a = activationFunction()\n",
    "funcion = Purelin()\n",
    "x_values = np.linspace(-8, 8, 100)\n",
    "y_values = funcion.function(x_values)\n",
    "plt.figure(figsize=(10, 5))\n",
    "plt.subplot(1, 2, 1)\n",
    "plt.plot(x_values, y_values)\n",
    "plt.title('Función de activación')\n",
    "plt.xlabel('x')\n",
    "plt.ylabel('y')\n",
    "plt.grid(True)\n",
    "\n",
    "y_values = funcion.derivative(x_values)\n",
    "plt.subplot(1, 2, 2)\n",
    "plt.plot(x_values, y_values)\n",
    "plt.title('Derivada de la función de activación')\n",
    "plt.xlabel('x')\n",
    "plt.ylabel('y')\n",
    "plt.grid(True)\n",
    "\n",
    "plt.show()"
   ]
  },
  {
   "cell_type": "markdown",
   "metadata": {
    "jp-MarkdownHeadingCollapsed": true
   },
   "source": [
    "# Funciones de error"
   ]
  },
  {
   "cell_type": "code",
   "execution_count": 24,
   "metadata": {},
   "outputs": [],
   "source": [
    "class ErrorFunctions:\n",
    "    @staticmethod\n",
    "    def MSE(y_true, y_pred):\n",
    "        \"\"\"\n",
    "        Calculate the mean squared error between true and predicted values.\n",
    "\n",
    "        Parameters:\n",
    "        y_true: numpy.ndarray\n",
    "            True values\n",
    "        y_pred: numpy.ndarray\n",
    "            Predicted values\n",
    "\n",
    "        Returns:\n",
    "        float\n",
    "            Mean squared error\n",
    "        \"\"\"\n",
    "        y_true = np.array(y_true)\n",
    "        y_pred = np.array(y_pred)\n",
    "        return np.mean((y_true - y_pred) ** 2)\n",
    "    \n",
    "    @staticmethod\n",
    "    def MAE(y_true, y_pred):\n",
    "        \"\"\"\n",
    "        Calculate the mean absolute error between true and predicted values.\n",
    "\n",
    "        Parameters:\n",
    "        y_true: numpy.ndarray\n",
    "            True values\n",
    "        y_pred: numpy.ndarray\n",
    "            Predicted values\n",
    "\n",
    "        Returns:\n",
    "        float\n",
    "            Mean absolute error\n",
    "        \"\"\"\n",
    "        y_true = np.array(y_true)\n",
    "        y_pred = np.array(y_pred)\n",
    "        return np.mean(np.abs(y_true - y_pred))\n",
    "\n",
    "    @staticmethod\n",
    "    def SSE(y_true, y_pred):\n",
    "        \"\"\"\n",
    "        Calculate the sum of squared errors between true and predicted values.\n",
    "\n",
    "        Parameters:\n",
    "        y_true: numpy.ndarray\n",
    "            True values\n",
    "        y_pred: numpy.ndarray\n",
    "            Predicted values\n",
    "\n",
    "        Returns:\n",
    "        float\n",
    "            Sum of squared errors\n",
    "        \"\"\"\n",
    "        y_true = np.array(y_true)\n",
    "        y_pred = np.array(y_pred)\n",
    "        return np.sum((y_true - y_pred) ** 2)"
   ]
  },
  {
   "cell_type": "markdown",
   "metadata": {
    "id": "QFBX6lkR44kf"
   },
   "source": [
    "# ESTRUCTURA DE LA RED NEURONAL"
   ]
  },
  {
   "cell_type": "code",
   "execution_count": 25,
   "metadata": {},
   "outputs": [],
   "source": [
    "class NeuralNetwork:\n",
    "    \"\"\"Class for the structure of a Neural Network\"\"\"\n",
    "    def __init__(self, input_size, layer_sizes, output_size, activation_funcs, wInit='random'):\n",
    "        \"\"\"\n",
    "        Parameters:\n",
    "        input_size: int \n",
    "            Defines the size of the input layer\n",
    "        layer_sizes: int array \n",
    "            Defines the sizes of the ocult layers\n",
    "        output_size: int \n",
    "            Defines the size of the output layer\n",
    "        activation_funcs: activationFunction class array \n",
    "            Defines the activation function per layer\n",
    "        \"\"\"\n",
    "        self.input_size = input_size\n",
    "        self.layer_sizes = [input_size] + layer_sizes + [output_size]  # Incluir el tamaño de la capa de entrada y de salida\n",
    "        self.output_size = output_size\n",
    "        self.activation_funcs = activation_funcs\n",
    "\n",
    "        self.num_layers = len(self.layer_sizes)\n",
    "        num_weights = 0\n",
    "        for i in range(self.num_layers-1):\n",
    "            num_weights += (self.layer_sizes[i]*self.layer_sizes[i+1])+ self.layer_sizes[i+1] \n",
    "        if wInit == 'random':    \n",
    "            self.weights = np.random.randn(num_weights)#Inicializacion aleatoria de los pesos    \n",
    "        elif wInit == 'nguyen':\n",
    "            self.weights = np.random.randn(num_weights)#Inicializacion aleatoria de los pesos    \n",
    "            raise NotImplementedError(\"La inicializacion por el metodo nguyen-widrow aun esta en proceso, se implementara en futuras versiones\")\n",
    "            self.weights = np.random.randn(num_weights)#Inicializacion aleatoria de los pesos \n",
    "            # Nuguyen-Widrow algorithm for generation weights and biases\n",
    "            for i in range(self.num_layers-1):\n",
    "                start_index,end_index = self.calculate_weight_indixes(i)\n",
    "                ra = self.activation_funcs[i].active()\n",
    "                G = 0.7 * np.sqrt(self.layer_sizes[i+1]) ** (1 / self.layer_sizes[i])\n",
    "                if (not np.isinf(ra[0])) and (not np.isinf(ra[1])):\n",
    "                    vw = np.random.randn(self.layer_sizes[i+1], self.layer_sizes[i])\n",
    "                    a = vw / np.linalg.norm(vw)\n",
    "                    a = G * a\n",
    "                    beta = np.arange(ra[0], ra[1] + (ra[1]-ra[0])/(self.layer_sizes[i+1]-1+1e-12), (ra[1]-ra[0])/(self.layer_sizes[i+1]-1+1e-12)).reshape(-1, 1)\n",
    "                    a = np.hstack((a, G * (np.sign(a[:, 0]) * beta))) \n",
    "                    a = a.flatten()\n",
    "                    self.weights[start_index:end_index] = a\n",
    "                else:\n",
    "                    self.weights[start_index:end_index] = G * np.random.randn(self.layer_sizes[i+1] * (self.layer_sizes[i] + 1))\n",
    "                \n",
    "        self.n_outputs = []  # Lista para almacenar las salidas antes de la función de activación\n",
    "        self.a_outputs = []\n",
    "        \n",
    "    def forwardPass(self, inputs):\n",
    "        start_index = 0\n",
    "        outputs = np.array(inputs)\n",
    "        self.n_outputs = [inputs] #La primera n siempre es igual a los inputs\n",
    "        self.a_outputs = []\n",
    "        # Iterar sobre cada capa de la red\n",
    "        for i in range(self.num_layers-1):\n",
    "            # Extraer los pesos para la capa actual\n",
    "            end_index = start_index + self.layer_sizes[i+1] * (self.layer_sizes[i] + 1) # Agregamos 1 para los sesgos\n",
    "            layer_weights = self.weights[start_index:end_index]\n",
    "            layer_weights = layer_weights.reshape(self.layer_sizes[i+1], self.layer_sizes[i]+1) # +1 para incluir los sesgos\n",
    "            \n",
    "            start_index = end_index\n",
    "\n",
    "            # Cálculo del producto punto entre los pesos y el input aumentado por el sesgo\n",
    "            pe = np.vstack((outputs,np.ones((1,outputs.shape[1]))))\n",
    "            layer_output = np.dot(layer_weights,pe)\n",
    "            self.n_outputs.append(layer_output)\n",
    "            # Aplicación de la función de activación correspondiente\n",
    "            layer_output = self.activation_funcs[i].function(layer_output)\n",
    "            self.a_outputs.append(layer_output)\n",
    "            outputs = layer_output\n",
    "            \n",
    "        return outputs\n",
    "\n",
    "\n",
    "    def backwardPass(self, targets):\n",
    "        gradients = np.array([])\n",
    "        #targets_np = np.array(targets)\n",
    "        #num_samples = targets_np.shape[0]\n",
    "        e = targets - self.a_outputs[-1]\n",
    "        ge = -2*e\n",
    "        delta = ge * self.activation_funcs[-1].derivative(np.array(self.n_outputs[-1]))\n",
    "        ae = np.vstack((self.a_outputs[-2],np.ones((1,self.a_outputs[-2].shape[1]))))\n",
    "        ge = np.dot(delta,ae.T)\n",
    "        gradients = np.concatenate((ge.flatten(),gradients))\n",
    "    \n",
    "        for i in range(self.num_layers-2, 0, -1):\n",
    "            fdx = self.activation_funcs[i-1].derivative(np.array(self.n_outputs[i]))\n",
    "            start_index,end_index = self.calculate_weight_indixes(i)\n",
    "            layer_weights = self.weights[start_index:end_index]\n",
    "            layer_weights = layer_weights.reshape(self.layer_sizes[i+1], self.layer_sizes[i]+1) # +1 para incluir los sesgos\n",
    "            layer_weights = layer_weights[:, :-1] #Ignorar la columna de sesgos\n",
    "            delta = fdx * np.dot(layer_weights.T,delta)\n",
    "            ae = np.vstack((self.a_outputs[i-1],np.ones((1,self.a_outputs[i-1].shape[1]))))\n",
    "            ge = np.dot(delta,ae.T)\n",
    "            gradients = np.concatenate((ge.flatten(),gradients))\n",
    "        return gradients\n",
    "    \n",
    "\n",
    "    def calculate_weight_indixes(self, layer_index):\n",
    "        \"\"\"Calculates the start and end indices of the weights for the specified layer.\"\"\"\n",
    "        start_index = 0\n",
    "        end_index = 0\n",
    "        for i in range(layer_index):\n",
    "            start_index += self.layer_sizes[i] * (self.layer_sizes[i+1] + 1)  \n",
    "            \n",
    "        # Calcular el índice de fin sumando el tamaño de la capa actual multiplicado por el tamaño de la capa anterior (sin incluir sesgos)\n",
    "        end_index = start_index + self.layer_sizes[layer_index] * (self.layer_sizes[layer_index+1] + 1)\n",
    "        \n",
    "        return start_index, end_index\n",
    "        \n",
    "    def error(self,targets,error_func):\n",
    "        \"\"\"\n",
    "        Calculate the error based on the inputs, outputs, and error function specified.\n",
    "\n",
    "        Parameters:\n",
    "        inputs: numpy.ndarray\n",
    "            Input data\n",
    "        outputs: numpy.ndarray\n",
    "            Output data\n",
    "        error_func: function\n",
    "            Error function to use (e.g., mean squared error, mean absolute error, etc.)\n",
    "\n",
    "        Returns:\n",
    "        float\n",
    "            Error value calculated using the specified error function.\n",
    "        \"\"\"\n",
    "        predicted_outputs = self.a_outputs[-1]\n",
    "        return error_func(targets, predicted_outputs)"
   ]
  },
  {
   "cell_type": "markdown",
   "metadata": {
    "jp-MarkdownHeadingCollapsed": true
   },
   "source": [
    "# Optimizadores"
   ]
  },
  {
   "cell_type": "code",
   "execution_count": 30,
   "metadata": {},
   "outputs": [],
   "source": [
    "class Optimizer():\n",
    "    \"\"\"\n",
    "    Class for the optimizers based on two different algorithms\n",
    "\n",
    "    RMSProp()\n",
    "    AdamW() \n",
    "    \"\"\"\n",
    "    def __init__(self,lr:float,maxEpochs:int,goal:float,mingrad:float,nn: NeuralNetwork,\n",
    "                 inputs,targets,error_fun,show:int =1,consecutive_epochs:int =10,\n",
    "                 num_batch: int=1)->None:  #Aqui probablemente se pueda agregar cosas como el batch size, si es categorico por ejemplo\n",
    "        self.name = \"DEFAULT\"\n",
    "        self.lr = lr\n",
    "        self.num_batch = num_batch\n",
    "        self.maxEpochs = maxEpochs\n",
    "        self.goal = goal\n",
    "        self.mingrad = mingrad\n",
    "        self.show = show\n",
    "        self.inputs = inputs\n",
    "        self.targets = targets\n",
    "        self.error_fun = error_fun\n",
    "        self.consecutive_epochs = consecutive_epochs\n",
    "        self.nn = nn\n",
    "        \n",
    "    def optimize(self):\n",
    "        this = self.name\n",
    "        stop = \"\"\n",
    "        epochs = []\n",
    "        perfs  = []\n",
    "        print(\"\\n\")\n",
    "        # Train\n",
    "        for epoch in range(self.maxEpochs+1):\n",
    "            # Performance and Gradient\n",
    "            outputs = self.nn.forwardPass(self.inputs)\n",
    "            gX = self.nn.backwardPass(self.targets)\n",
    "            perf = self.nn.error(self.targets, self.error_fun)\n",
    "\n",
    "            normgX = np.linalg.norm(gX)  \n",
    "            \n",
    "            # Stopping criteria\n",
    "            if np.all(perf <= self.goal):\n",
    "                stop = \"Performance goal met\"\n",
    "            elif epoch == self.maxEpochs:\n",
    "                stop = \"Maximum epoch reached, performance goal was not met\"\n",
    "            elif normgX < self.mingrad:\n",
    "                stop = \"Minimum gradient reached, performance goal was not met\"\n",
    "\n",
    "            # Progress\n",
    "            if (np.fmod(epoch,self.show) == 0 or len(stop) != 0):\n",
    "                print(this,end = \": \")\n",
    "                if np.isfinite(self.maxEpochs):\n",
    "                    print(\"Epoch \",epoch, \"/\", self.maxEpochs,end = \" \")\n",
    "                if np.isfinite(self.goal):\n",
    "                    print(\", Performance %8.3e\" % perf, \"/\", self.goal, end = \" \")\n",
    "                if np.isfinite(self.mingrad):\n",
    "                    print(\", Gradient %8.3e\" % normgX, \"/\", self.mingrad)\n",
    "\n",
    "                \n",
    "                if len(stop) != 0:\n",
    "                    print(\"\\n\",this,\":\",stop,\"\\n\")\n",
    "                    break\n",
    "            epochs = np.append(epochs,epoch)\n",
    "            perfs = np.append(perfs,perf)\n",
    "            self.train(gX)\n",
    "            \n",
    "        return perfs, epochs\n",
    "    def train(self):\n",
    "        raise NotImplementedError(\"No se ha definido el optimizador, esta es la clase base\")\n",
    "    \n",
    "    \n"
   ]
  },
  {
   "cell_type": "code",
   "execution_count": 27,
   "metadata": {},
   "outputs": [],
   "source": [
    "class RmsProp(Optimizer):\n",
    "    def __init__(self, nn: NeuralNetwork, inputs, targets,lr=1e-3, num_batch=1, maxEpochs=500, goal=1e-8, \n",
    "                 mingrad=1e-11, show=1, error_fun=ErrorFunctions.SSE, consecutive_epochs=10,\n",
    "                 WDecay=0,alpha=0.99,centered=False,momentum=0.6) -> None:\n",
    "        super().__init__(lr, num_batch, maxEpochs, goal, mingrad, show, inputs, targets, error_fun, consecutive_epochs,nn)\n",
    "        self.name = \"trainRMSPROP\"\n",
    "        #Initial data\n",
    "        self.v = 0\n",
    "        self.vh = 0\n",
    "        self.b = 0\n",
    "        self.gAvg = 0\n",
    "        self.WDecay = WDecay\n",
    "        self.alpha = alpha\n",
    "        self.centered = centered\n",
    "        self.momemtum = momentum\n",
    "        \n",
    "    def train(self,gX):\n",
    "        # RMSProp\n",
    "        if self.WDecay != 0:\n",
    "            gX = gX + gX*self.WDecay\n",
    "        self.v = self.alpha*self.v + ((1-self.self.alpha)*(gX**2))\n",
    "        self.vh = self.v\n",
    "        if self.centered:\n",
    "            self.gAvg = self.gAvg*self.alpha + ((1-self.alpha)*gX)\n",
    "            self.vh = self.vh - self.gAvg**2\n",
    "        if self.momentum > 0:\n",
    "            self.b = self.momentum*self.b + gX/((self.vh**(1/2))+1e-8)\n",
    "            dX = -self.lr*self.b\n",
    "            self.weights += dX\n",
    "        else:\n",
    "            dX = -self.lr*(gX/((self.vh**(1/2))+1e-8))\n",
    "            self.weights += dX\n",
    "        return 0"
   ]
  },
  {
   "cell_type": "markdown",
   "metadata": {
    "jp-MarkdownHeadingCollapsed": true
   },
   "source": [
    "# Main"
   ]
  },
  {
   "cell_type": "code",
   "execution_count": 32,
   "metadata": {},
   "outputs": [],
   "source": [
    "def main():\n",
    "    activationFunction() #SOLO ES PARA VER LA DOCUMENTACION \n",
    "    neural_network = NeuralNetwork(input_size = 2,\n",
    "                                   layer_sizes = [2],\n",
    "                                   output_size = 1,\n",
    "                                   activation_funcs = [Swish(),Logsig()],\n",
    "                                   wInit = 'random'\n",
    "                                  )\n",
    "    inputs = [[0, 0, 1, 1],\n",
    "             [0, 1, 0, 1]]\n",
    "    targets = [0, 1, 1, 0]\n",
    "    print(f\"Pesos antes: {neural_network.weights}\")\n",
    "    \n",
    "    Optimizador = RmsProp(nn=neural_network,\n",
    "                          inputs=inputs,\n",
    "                          targets=targets,\n",
    "                          lr=1e-4,\n",
    "                          maxEpochs=1000,\n",
    "                          show=200)\n",
    "    print(type(neural_network))\n",
    "    print(type(Optimizador.nn))\n",
    "    return 0\n",
    "    perfs,epochs = Optimizador.optimize()\n",
    "    \n",
    "    plt.figure(figsize=(10, 5))\n",
    "    plt.plot(epochs, perfs)\n",
    "    plt.title('Performance')\n",
    "    plt.xlabel('x')\n",
    "    plt.ylabel('y')\n",
    "    plt.grid(True)\n",
    "    plt.show()\n",
    "    \n",
    "    print(f\"Pesos despues: {neural_network.weights}\")\n",
    "    outputs = neural_network.forwardPass(inputs)\n",
    "    print(f\"Salida:{outputs}\")\n",
    "    print(\"Predicción binaria:\")\n",
    "    for fila in outputs.T:  # Iterar sobre las filas de la matriz de salida\n",
    "        for valor in fila:\n",
    "            if valor > 0.5:\n",
    "                print(\"1\", end=\" \")\n",
    "            else:\n",
    "                print(\"0\", end=\" \")\n",
    "    resultado_esperado = [0, 1, 1, 0]\n",
    "    print(\"\\nResultado esperado:\\n \", resultado_esperado)"
   ]
  },
  {
   "cell_type": "markdown",
   "metadata": {},
   "source": [
    "# DO MAIN"
   ]
  },
  {
   "cell_type": "code",
   "execution_count": 33,
   "metadata": {},
   "outputs": [
    {
     "name": "stdout",
     "output_type": "stream",
     "text": [
      "Pesos antes: [-0.83493965  1.40413469 -0.23658791  1.94655123 -0.18608732  0.65351149\n",
      " -0.69784569  0.72400951  0.30753998]\n",
      "<class 'float'>\n"
     ]
    }
   ],
   "source": [
    "if __name__ == '__main__':\n",
    "    main()"
   ]
  }
 ],
 "metadata": {
  "colab": {
   "provenance": []
  },
  "kernelspec": {
   "display_name": "Python 3 (ipykernel)",
   "language": "python",
   "name": "python3"
  },
  "language_info": {
   "codemirror_mode": {
    "name": "ipython",
    "version": 3
   },
   "file_extension": ".py",
   "mimetype": "text/x-python",
   "name": "python",
   "nbconvert_exporter": "python",
   "pygments_lexer": "ipython3",
   "version": "3.11.5"
  }
 },
 "nbformat": 4,
 "nbformat_minor": 4
}
