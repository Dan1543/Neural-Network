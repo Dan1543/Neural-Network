{
 "cells": [
  {
   "cell_type": "code",
   "execution_count": 12,
   "metadata": {},
   "outputs": [],
   "source": [
    "#pip install -e ."
   ]
  },
  {
   "cell_type": "code",
   "execution_count": 13,
   "metadata": {
    "id": "3JDc_vCt4Lkj"
   },
   "outputs": [],
   "source": [
    "import numpy as np\n",
    "import NeuralNetworkLibrary as dnn\n",
    "import matplotlib.pyplot as plt\n",
    "from scipy.io import loadmat\n",
    "\n",
    "np.random.seed(42)\n"
   ]
  },
  {
   "cell_type": "markdown",
   "metadata": {
    "jp-MarkdownHeadingCollapsed": true
   },
   "source": [
    "# Main"
   ]
  },
  {
   "cell_type": "code",
   "execution_count": 40,
   "metadata": {},
   "outputs": [],
   "source": [
    "def main():\n",
    "    \"\"\"\n",
    "    activationFunction()\n",
    "    neural_network = NeuralNetwork(input_size = 2,\n",
    "                                layer_sizes = [2],\n",
    "                                output_size = 1,\n",
    "                                activation_funcs = [Swish(),Logsig()],\n",
    "                                wInit = 'nguyen')\n",
    "\n",
    "    # Carga el archivo .mat\n",
    "    inputs = np.array([[0,0],\n",
    "              [0,1],\n",
    "              [1,0],\n",
    "              [1,1]])\n",
    "    targets =np.array([[0],\n",
    "              [1],\n",
    "              [1],\n",
    "              [0]])\n",
    "    for weight in neural_network.weights:\n",
    "        print(f\"Tamano de los pesos: {weight.shape}\")\n",
    "    \n",
    "    Optimizador = RmsProp(nn=neural_network,\n",
    "                          inputs=inputs,\n",
    "                          targets=targets,\n",
    "                          lr=1e-2,\n",
    "                          maxEpochs=500,\n",
    "                          show=50,\n",
    "                          consecutive_epochs=20,\n",
    "                          goal=1e-4,\n",
    "                          mingrad=1e-8,\n",
    "                          batch_size=1,\n",
    "                          error_fun=ErrorFunctions.MSE)\n",
    "    \n",
    "    perfs,epochs = Optimizador.optimize()\n",
    "    \"\"\"\n",
    "    \n",
    "    dnn.activationFunction()\n",
    "    neural_network = dnn.NeuralNetwork(input_size = 2,\n",
    "                                layer_sizes = [30,30,30],\n",
    "                                output_size = 2,\n",
    "                                activation_funcs = [dnn.Relu(),dnn.Relu(),dnn.Relu(),dnn.Purelin()],\n",
    "                                wInit = 'nguyen',\n",
    "                                dropout_rate=0.05,\n",
    "                                regularization='L2')\n",
    "\n",
    "    # Carga el archivo .mat\n",
    "    data = loadmat('engine_dataset.mat')\n",
    "    inputs = data['engineInputs'].T\n",
    "    targets = data['engineTargets'].T\n",
    "    \n",
    "    print(\"============= DATA BEFORE ================= \")\n",
    "    dnn.printData(inputs,targets)\n",
    "    inputs,targets = dnn.min_max(inputs,targets)\n",
    "    print(\"============= DATA AFTER  =================\")\n",
    "    dnn.printData(inputs,targets)\n",
    "    \n",
    "    Optimizador = dnn.AdamW(nn=neural_network,\n",
    "                          inputs=inputs,\n",
    "                          targets=targets,\n",
    "                          lr=1e-2,\n",
    "                          maxEpochs=5000,\n",
    "                          show=200,\n",
    "                          consecutive_epochs=10,\n",
    "                          mingrad=1e-8,\n",
    "                          batch_size=100,\n",
    "                          error_fun=dnn.ErrorFunctions.MAE)\n",
    "    \n",
    "    perfs,epochs = Optimizador.optimize()\n",
    "    \n",
    "    plt.figure(figsize=(10, 5))\n",
    "    plt.plot(epochs, perfs)\n",
    "    plt.title('Performance')\n",
    "    plt.xlabel('x')\n",
    "    plt.ylabel('y')\n",
    "    plt.grid(True)\n",
    "    plt.show()\n",
    "    print(perfs)\n",
    "    \"\"\"     \n",
    "    outputs = neural_network.forwardPass(inputs,False)\n",
    "    print(f\"Salida:{outputs}\")\n",
    "    print(\"Predicción binaria:\")\n",
    "    for fila in outputs.T:  # Iterar sobre las filas de la matriz de salida\n",
    "        for valor in fila:\n",
    "            if valor > 0.5:\n",
    "                print(\"1\", end=\" \")\n",
    "            else:\n",
    "                print(\"0\", end=\" \")\n",
    "    resultado_esperado = [0, 1, 1, 0]\n",
    "    print(\"\\nResultado esperado:\\n \", resultado_esperado)\n",
    "    \"\"\""
   ]
  },
  {
   "cell_type": "markdown",
   "metadata": {},
   "source": [
    "# DO MAIN"
   ]
  },
  {
   "cell_type": "code",
   "execution_count": 41,
   "metadata": {},
   "outputs": [
    {
     "name": "stdout",
     "output_type": "stream",
     "text": [
      "============= DATA BEFORE ================= \n",
      "Estadísticas de los datos de entrada:\n",
      "Media: [ 141.23511259 1259.53911593]\n",
      "Desviación estándar: [ 90.67771106 354.62917678]\n",
      "Mínimo: [  0.6 576.2]\n",
      "Máximo: [ 314.  1801.8]\n",
      "\n",
      "Estadísticas de los datos de salida:\n",
      "Media: [754.19974979 961.74895746]\n",
      "Desviación estándar: [548.43987051 465.9340708 ]\n",
      "Mínimo: [-176.7    0. ]\n",
      "Máximo: [1784.3 1774. ]\n",
      "============= DATA AFTER  =================\n",
      "Estadísticas de los datos de entrada:\n",
      "Media: [0.44873999 0.55755476]\n",
      "Desviación estándar: [0.28933539 0.28935148]\n",
      "Mínimo: [0. 0.]\n",
      "Máximo: [1. 1.]\n",
      "\n",
      "Estadísticas de los datos de salida:\n",
      "Media: [0.47470665 0.54213583]\n",
      "Desviación estándar: [0.27967357 0.26264604]\n",
      "Mínimo: [0. 0.]\n",
      "Máximo: [1. 1.]\n",
      "\n",
      "\n",
      "trainAdamW: Epoch  0 / 5000 , Performance 3.354e+02 / 1e-08 , Gradient 7.401e+08 / 1e-08\n",
      "trainAdamW: Epoch  200 / 5000 , Performance 2.594e+01 / 1e-08 , Gradient 1.251e+06 / 1e-08\n",
      "trainAdamW: Epoch  400 / 5000 , Performance 4.983e+00 / 1e-08 , Gradient 2.602e+04 / 1e-08\n",
      "trainAdamW: Epoch  600 / 5000 , Performance 1.509e+00 / 1e-08 , Gradient 3.673e+03 / 1e-08\n",
      "trainAdamW: Epoch  800 / 5000 , Performance 7.554e-01 / 1e-08 , Gradient 2.081e+03 / 1e-08\n",
      "trainAdamW: Epoch  1000 / 5000 , Performance 5.755e-01 / 1e-08 , Gradient 1.836e+03 / 1e-08\n",
      "trainAdamW: Epoch  1200 / 5000 , Performance 5.288e-01 / 1e-08 , Gradient 1.769e+03 / 1e-08\n",
      "trainAdamW: Epoch  1400 / 5000 , Performance 5.154e-01 / 1e-08 , Gradient 1.746e+03 / 1e-08\n",
      "trainAdamW: Epoch  1600 / 5000 , Performance 5.111e-01 / 1e-08 , Gradient 1.736e+03 / 1e-08\n",
      "trainAdamW: Epoch  1800 / 5000 , Performance 5.096e-01 / 1e-08 , Gradient 1.732e+03 / 1e-08\n",
      "trainAdamW: Epoch  2000 / 5000 , Performance 5.089e-01 / 1e-08 , Gradient 1.730e+03 / 1e-08\n",
      "trainAdamW: Epoch  2200 / 5000 , Performance 5.087e-01 / 1e-08 , Gradient 1.729e+03 / 1e-08\n",
      "trainAdamW: Epoch  2400 / 5000 , Performance 5.085e-01 / 1e-08 , Gradient 1.728e+03 / 1e-08\n",
      "trainAdamW: Epoch  2600 / 5000 , Performance 5.085e-01 / 1e-08 , Gradient 1.728e+03 / 1e-08\n",
      "trainAdamW: Epoch  2800 / 5000 , Performance 5.084e-01 / 1e-08 , Gradient 1.728e+03 / 1e-08\n",
      "trainAdamW: Epoch  2809 / 5000 , Performance 5.084e-01 / 1e-08 , Gradient 1.728e+03 / 1e-08\n",
      "\n",
      " trainAdamW : Performance has risen for 10 consecutive epochs \n",
      "\n"
     ]
    },
    {
     "data": {
      "image/png": "[encoded data removed]",
      "text/plain": [
       "<Figure size 1000x500 with 1 Axes>"
      ]
     },
     "metadata": {},
     "output_type": "display_data"
    },
    {
     "name": "stdout",
     "output_type": "stream",
     "text": [
      "[335.44421637 252.15680938 230.87752671 ...   0.5084481    0.508448\n",
      "   0.50844791]\n"
     ]
    }
   ],
   "source": [
    "if __name__ == '__main__':\n",
    "    main()"
   ]
  }
 ],
 "metadata": {
  "colab": {
   "provenance": []
  },
  "kernelspec": {
   "display_name": "Python 3 (ipykernel)",
   "language": "python",
   "name": "python3"
  },
  "language_info": {
   "codemirror_mode": {
    "name": "ipython",
    "version": 3
   },
   "file_extension": ".py",
   "mimetype": "text/x-python",
   "name": "python",
   "nbconvert_exporter": "python",
   "pygments_lexer": "ipython3",
   "version": "3.11.5"
  }
 },
 "nbformat": 4,
 "nbformat_minor": 4
}
