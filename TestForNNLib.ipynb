{
 "cells": [
  {
   "cell_type": "code",
   "execution_count": 1,
   "metadata": {},
   "outputs": [],
   "source": [
    "#pip install -e ."
   ]
  },
  {
   "cell_type": "code",
   "execution_count": 2,
   "metadata": {
    "id": "3JDc_vCt4Lkj"
   },
   "outputs": [],
   "source": [
    "import numpy as np\n",
    "import NeuralNetworkLibrary as dnn\n",
    "import matplotlib.pyplot as plt\n",
    "from scipy.io import loadmat\n",
    "from sklearn.model_selection import train_test_split\n",
    "\n",
    "np.random.seed(42)\n"
   ]
  },
  {
   "cell_type": "markdown",
   "metadata": {
    "jp-MarkdownHeadingCollapsed": true
   },
   "source": [
    "# Main"
   ]
  },
  {
   "cell_type": "code",
   "execution_count": 3,
   "metadata": {},
   "outputs": [],
   "source": [
    "def main():\n",
    "    dnn.activationFunction()\n",
    "    neural_network = dnn.NeuralNetwork(input_size = 2,\n",
    "                                layer_sizes = [10,10],\n",
    "                                output_size = 2,\n",
    "                                activation_funcs = [dnn.Relu(),dnn.Relu(),dnn.Purelin()],\n",
    "                                wInit = 'nguyen',\n",
    "                                dropout_rate=0.05,\n",
    "                                regularization='L2',\n",
    "                                lambda_reg=1e-3)\n",
    "\n",
    "    # Carga el archivo .mat\n",
    "    data = loadmat('engine_dataset.mat')\n",
    "    inputs = data['engineInputs'].T\n",
    "    targets = data['engineTargets'].T\n",
    "    inputs,targets = dnn.min_max(inputs,targets)\n",
    "        \n",
    "    X_train, X_test, y_train, y_test = train_test_split(inputs, targets, test_size=0.2, random_state=42)\n",
    "    X_train, X_val, y_train, y_val = train_test_split(X_train, y_train, test_size=0.2, random_state=42)\n",
    "    print(f\"Original X: {np.size(inputs)} Y:{np.size(targets)}\")\n",
    "    print(f\"Entrenamiento X: {np.size(X_train)} Y:{np.size(y_train)}\")\n",
    "    print(f\"Testeo X: {np.size(X_test)} Y:{np.size(y_test)}\")\n",
    "    print(f\"Valoracion X: {np.size(X_val)} Y:{np.size(y_val)}\")\n",
    "    #print(\"============= DATA BEFORE ================= \")\n",
    "    #dnn.printData(inputs,targets)\n",
    "\n",
    "    #print(\"============= DATA AFTER  =================\")\n",
    "    #dnn.printData(inputs,targets)\n",
    "    \n",
    "    Optimizador = dnn.RmsProp(nn=neural_network,\n",
    "                          inputs=X_train,\n",
    "                          targets=y_train,\n",
    "                          test_inputs=X_test,\n",
    "                          test_targets=y_test,\n",
    "                          lr=1e-3,\n",
    "                          maxEpochs=20000,\n",
    "                          show=200,\n",
    "                          consecutive_epochs=5,\n",
    "                          mingrad=1e-8,\n",
    "                          batch_size=250,\n",
    "                          error_fun=dnn.ErrorFunctions.MSE)\n",
    "    \n",
    "    perfs,test_perfs,epochs = Optimizador.optimize()\n",
    "    y_pred = neural_network.forwardPass(inputs=X_train,training=False)\n",
    "    print(f\"R2 Training = {dnn.ErrorFunctions.R2(y_train,y_pred)}\")\n",
    "    y_pred = neural_network.forwardPass(inputs=X_val,training=False)\n",
    "    print(f\"R2 Valoration= {dnn.ErrorFunctions.R2(y_val,y_pred)}\")\n",
    "    y_pred = neural_network.forwardPass(inputs=inputs,training=False)\n",
    "    print(f\"R2 All data= {dnn.ErrorFunctions.R2(targets,y_pred)}\")\n",
    "    plt.figure(figsize=(10, 5))\n",
    "    plt.plot(epochs, perfs, label='Train')\n",
    "    plt.plot(epochs,test_perfs, label='Test')\n",
    "    plt.title('Performance')\n",
    "    plt.xlabel('x')\n",
    "    plt.ylabel('y')\n",
    "    plt.grid(True)\n",
    "    plt.legend()\n",
    "    plt.show()"
   ]
  },
  {
   "cell_type": "markdown",
   "metadata": {},
   "source": [
    "# DO MAIN"
   ]
  },
  {
   "cell_type": "code",
   "execution_count": 8,
   "metadata": {},
   "outputs": [
    {
     "name": "stdout",
     "output_type": "stream",
     "text": [
      "Original X: 2398 Y:2398\n",
      "Entrenamiento X: 1534 Y:1534\n",
      "Testeo X: 480 Y:480\n",
      "Valoracion X: 384 Y:384\n",
      "\n",
      "\n",
      "trainRMSPROP: Epoch  0 / 20000 , Performance 1.637e+01 / 1e-08 , Test Performance 1.390e+01 / 1e-08 , Gradient 1.160e+05 / 1e-08\n",
      "trainRMSPROP: Epoch  200 / 20000 , Performance 4.537e-02 / 1e-08 , Test Performance 1.879e-02 / 1e-08 , Gradient 6.675e+01 / 1e-08\n",
      "trainRMSPROP: Epoch  400 / 20000 , Performance 3.122e-02 / 1e-08 , Test Performance 1.379e-02 / 1e-08 , Gradient 6.190e+01 / 1e-08\n",
      "trainRMSPROP: Epoch  486 / 20000 , Performance 3.410e-02 / 1e-08 , Test Performance 8.760e-03 / 1e-08 , Gradient 1.517e+02 / 1e-08\n",
      "\n",
      " trainRMSPROP : Performance has risen for 5 consecutive epochs \n",
      "\n",
      "R2 Training = [0.9607205  0.79483404]\n",
      "R2 Valoration= [0.96371221 0.79480388]\n",
      "R2 All data= [0.96096619 0.79454856]\n"
     ]
    },
    {
     "data": {
      "image/png": "[encoded data removed]",
      "text/plain": [
       "<Figure size 1000x500 with 1 Axes>"
      ]
     },
     "metadata": {},
     "output_type": "display_data"
    }
   ],
   "source": [
    "if __name__ == '__main__':\n",
    "    main()"
   ]
  }
 ],
 "metadata": {
  "colab": {
   "provenance": []
  },
  "kernelspec": {
   "display_name": "Python 3 (ipykernel)",
   "language": "python",
   "name": "python3"
  },
  "language_info": {
   "codemirror_mode": {
    "name": "ipython",
    "version": 3
   },
   "file_extension": ".py",
   "mimetype": "text/x-python",
   "name": "python",
   "nbconvert_exporter": "python",
   "pygments_lexer": "ipython3",
   "version": "3.11.5"
  }
 },
 "nbformat": 4,
 "nbformat_minor": 4
}
